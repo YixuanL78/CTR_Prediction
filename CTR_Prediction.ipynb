{
  "nbformat": 4,
  "nbformat_minor": 0,
  "metadata": {
    "colab": {
      "provenance": []
    },
    "kernelspec": {
      "name": "python3",
      "display_name": "Python 3"
    },
    "language_info": {
      "name": "python"
    }
  },
  "cells": [
    {
      "cell_type": "code",
      "source": [
        "!apt-get install openjdk-8-jdk-headless -qq > /dev/null\n",
        "!wget -q https://dlcdn.apache.org/spark/spark-3.5.5/spark-3.5.5-bin-hadoop3.tgz\n",
        "!tar xf spark-3.5.5-bin-hadoop3.tgz\n",
        "!pip install -q findspark"
      ],
      "metadata": {
        "id": "FQF6nxHO9_dr"
      },
      "execution_count": 1,
      "outputs": []
    },
    {
      "cell_type": "code",
      "source": [
        "import os\n",
        "os.environ[\"JAVA_HOME\"] = \"/usr/lib/jvm/java-8-openjdk-amd64\"\n",
        "os.environ[\"SPARK_HOME\"] = \"spark-3.5.5/spark-3.5.5-bin-hadoop3\""
      ],
      "metadata": {
        "id": "4fyXuwOi-Avk"
      },
      "execution_count": 2,
      "outputs": []
    },
    {
      "cell_type": "code",
      "source": [
        "import findspark\n",
        "findspark.init(\"spark-3.5.5-bin-hadoop3\")\n",
        "from pyspark.sql import SparkSession\n",
        "spark = SparkSession.builder.master(\"local[*]\").getOrCreate()"
      ],
      "metadata": {
        "id": "ClznoU9c-CS2"
      },
      "execution_count": 3,
      "outputs": []
    },
    {
      "cell_type": "markdown",
      "source": [
        "## 1. Data Processing\n"
      ],
      "metadata": {
        "id": "CYAU--4dyYaW"
      }
    },
    {
      "cell_type": "code",
      "execution_count": 4,
      "metadata": {
        "colab": {
          "base_uri": "https://localhost:8080/"
        },
        "id": "IUWpZk7v5I00",
        "outputId": "7631bdfc-59d4-4b3e-bbe8-686d09c4153f"
      },
      "outputs": [
        {
          "output_type": "stream",
          "name": "stdout",
          "text": [
            "Mounted at /content/drive\n"
          ]
        }
      ],
      "source": [
        "from google.colab import drive\n",
        "drive.mount('/content/drive')"
      ]
    },
    {
      "cell_type": "code",
      "source": [
        "click_df = spark.read.load(\"drive/My Drive/CTR_data/filtered_train.csv\", format='csv', header = True)"
      ],
      "metadata": {
        "id": "B-Xrd_JR9Dtn"
      },
      "execution_count": 5,
      "outputs": []
    },
    {
      "cell_type": "code",
      "source": [
        "click_df.show(5)"
      ],
      "metadata": {
        "colab": {
          "base_uri": "https://localhost:8080/"
        },
        "id": "M0MP06fs-mS_",
        "outputId": "0cfeca09-2f5f-410b-99fd-d61196fd211d"
      },
      "execution_count": 6,
      "outputs": [
        {
          "output_type": "stream",
          "name": "stdout",
          "text": [
            "+------+--------------------+-----+--------+----+----------+--------+-----------+-------------+--------+----------+------------+---------+---------+------------+-----------+----------------+-----+---+---+----+---+----+------+---+\n",
            "|   _c0|                  id|click|    hour|  C1|banner_pos| site_id|site_domain|site_category|  app_id|app_domain|app_category|device_id|device_ip|device_model|device_type|device_conn_type|  C14|C15|C16| C17|C18| C19|   C20|C21|\n",
            "+------+--------------------+-----+--------+----+----------+--------+-----------+-------------+--------+----------+------------+---------+---------+------------+-----------+----------------+-----+---+---+----+---+----+------+---+\n",
            "|128037|1.107450855228460...|    0|14102101|1005|         1|e151e245|   7e091613|     f028772b|ecad2386|  7801e8d9|    07d7df22| a99f214a| 10dcdfb1|    88fe1d5d|          1|               0|20352|320| 50|2333|  0|  39|    -1|157|\n",
            "|491755|1.240012241576984...|    0|14102103|1005|         0|1fbe01fe|   f3845767|     28905ebd|ecad2386|  7801e8d9|    07d7df22| a99f214a| 9f351a94|    3db9fde9|          1|               0|15701|320| 50|1722|  0|  35|100084| 79|\n",
            "|470924|1.059801103166430...|    0|14102103|1005|         1|d9750ee7|   98572c79|     f028772b|ecad2386|  7801e8d9|    07d7df22| a99f214a| 158aae2e|    c144e605|          1|               0|17614|320| 50|1993|  2|1063|    -1| 33|\n",
            "|791624|1.844218567631500...|    0|14102104|1005|         1|856e6d3f|   58a89a43|     f028772b|ecad2386|  7801e8d9|    07d7df22| a99f214a| 87f758ac|    0eb711ec|          1|               0|16208|320| 50|1800|  3| 167|100075| 23|\n",
            "|491263|1.236015917707253...|    1|14102103|1005|         1|d9750ee7|   98572c79|     f028772b|ecad2386|  7801e8d9|    07d7df22| a99f214a| d55aa41c|    3bd9e8e7|          1|               0|17614|320| 50|1993|  2|1063|    -1| 33|\n",
            "+------+--------------------+-----+--------+----+----------+--------+-----------+-------------+--------+----------+------------+---------+---------+------------+-----------+----------------+-----+---+---+----+---+----+------+---+\n",
            "only showing top 5 rows\n",
            "\n"
          ]
        }
      ]
    },
    {
      "cell_type": "code",
      "source": [
        "click_df.tail(5)"
      ],
      "metadata": {
        "colab": {
          "base_uri": "https://localhost:8080/"
        },
        "id": "9SsCqrY0v1wz",
        "outputId": "dc4d5775-c3a8-456d-e78b-d8447686b993"
      },
      "execution_count": 7,
      "outputs": [
        {
          "output_type": "execute_result",
          "data": {
            "text/plain": [
              "[Row(_c0='40428218', id='9.854402622730424e+18', click='1', hour='14103023', C1='1005', banner_pos='0', site_id='85f751fd', site_domain='c4e18dd6', site_category='50e219e0', app_id='9c13b419', app_domain='2347f47a', app_category='f95efa07', device_id='a99f214a', device_ip='07f3354c', device_model='1f0bc64f', device_type='1', device_conn_type='0', C14='23161', C15='320', C16='50', C17='2667', C18='0', C19='47', C20='-1', C21='221'),\n",
              " Row(_c0='40055368', id='1.5167136474965117e+19', click='0', hour='14103020', C1='1005', banner_pos='0', site_id='85f751fd', site_domain='c4e18dd6', site_category='50e219e0', app_id='9c13b419', app_domain='2347f47a', app_category='f95efa07', device_id='a99f214a', device_ip='2eeea4d3', device_model='28570f08', device_type='1', device_conn_type='0', C14='23160', C15='320', C16='50', C17='2667', C18='0', C19='47', C20='-1', C21='221'),\n",
              " Row(_c0='40153544', id='1.3236782305235956e+19', click='0', hour='14103021', C1='1002', banner_pos='0', site_id='c545a354', site_domain='c4e18dd6', site_category='50e219e0', app_id='ecad2386', app_domain='7801e8d9', app_category='07d7df22', device_id='cc1cb523', device_ip='5da89a35', device_model='373ecbe6', device_type='0', device_conn_type='0', C14='23861', C15='320', C16='50', C17='2735', C18='2', C19='35', C20='100148', C21='251'),\n",
              " Row(_c0='40210531', id='5.023380819135183e+18', click='0', hour='14103021', C1='1005', banner_pos='0', site_id='85f751fd', site_domain='c4e18dd6', site_category='50e219e0', app_id='e2fcccd2', app_domain='5c5a694b', app_category='0f2161f8', device_id='a99f214a', device_ip='0f0f2dba', device_model='d6e0e6ff', device_type='1', device_conn_type='0', C14='23016', C15='320', C16='50', C17='2658', C18='3', C19='35', C20='100148', C21='23'),\n",
              " Row(_c0='40261877', id='1.2886052325891252e+19', click='1', hour='14103022', C1='1005', banner_pos='0', site_id='5b08c53b', site_domain='7687a86e', site_category='3e814130', app_id='ecad2386', app_domain='7801e8d9', app_category='07d7df22', device_id='a99f214a', device_ip='e6ff6a10', device_model='ca136f4e', device_type='1', device_conn_type='0', C14='19015', C15='300', C16='250', C17='2162', C18='2', C19='39', C20='100060', C21='33')]"
            ]
          },
          "metadata": {},
          "execution_count": 7
        }
      ]
    },
    {
      "cell_type": "code",
      "source": [
        "click_df.count()"
      ],
      "metadata": {
        "colab": {
          "base_uri": "https://localhost:8080/"
        },
        "id": "wkftcHlD-1Q7",
        "outputId": "73db02d3-d549-4ed0-effc-4dbf86941013"
      },
      "execution_count": 8,
      "outputs": [
        {
          "output_type": "execute_result",
          "data": {
            "text/plain": [
              "404290"
            ]
          },
          "metadata": {},
          "execution_count": 8
        }
      ]
    },
    {
      "cell_type": "code",
      "source": [
        "click_df.printSchema()"
      ],
      "metadata": {
        "colab": {
          "base_uri": "https://localhost:8080/"
        },
        "id": "bJjW3BmN_E11",
        "outputId": "bc81b6f3-2401-48ca-e363-80a070afe984"
      },
      "execution_count": 9,
      "outputs": [
        {
          "output_type": "stream",
          "name": "stdout",
          "text": [
            "root\n",
            " |-- _c0: string (nullable = true)\n",
            " |-- id: string (nullable = true)\n",
            " |-- click: string (nullable = true)\n",
            " |-- hour: string (nullable = true)\n",
            " |-- C1: string (nullable = true)\n",
            " |-- banner_pos: string (nullable = true)\n",
            " |-- site_id: string (nullable = true)\n",
            " |-- site_domain: string (nullable = true)\n",
            " |-- site_category: string (nullable = true)\n",
            " |-- app_id: string (nullable = true)\n",
            " |-- app_domain: string (nullable = true)\n",
            " |-- app_category: string (nullable = true)\n",
            " |-- device_id: string (nullable = true)\n",
            " |-- device_ip: string (nullable = true)\n",
            " |-- device_model: string (nullable = true)\n",
            " |-- device_type: string (nullable = true)\n",
            " |-- device_conn_type: string (nullable = true)\n",
            " |-- C14: string (nullable = true)\n",
            " |-- C15: string (nullable = true)\n",
            " |-- C16: string (nullable = true)\n",
            " |-- C17: string (nullable = true)\n",
            " |-- C18: string (nullable = true)\n",
            " |-- C19: string (nullable = true)\n",
            " |-- C20: string (nullable = true)\n",
            " |-- C21: string (nullable = true)\n",
            "\n"
          ]
        }
      ]
    },
    {
      "cell_type": "code",
      "source": [
        "from pyspark.sql.functions import col, sum\n",
        "click_df.select([sum(col(c).isNull().cast(\"int\")).alias(c) for c in click_df.columns]).show()"
      ],
      "metadata": {
        "colab": {
          "base_uri": "https://localhost:8080/"
        },
        "id": "RSksi5OS_ktR",
        "outputId": "3a749b9e-6a83-4207-ed71-99d36ef55d27"
      },
      "execution_count": 10,
      "outputs": [
        {
          "output_type": "stream",
          "name": "stdout",
          "text": [
            "+---+---+-----+----+---+----------+-------+-----------+-------------+------+----------+------------+---------+---------+------------+-----------+----------------+---+---+---+---+---+---+---+---+\n",
            "|_c0| id|click|hour| C1|banner_pos|site_id|site_domain|site_category|app_id|app_domain|app_category|device_id|device_ip|device_model|device_type|device_conn_type|C14|C15|C16|C17|C18|C19|C20|C21|\n",
            "+---+---+-----+----+---+----------+-------+-----------+-------------+------+----------+------------+---------+---------+------------+-----------+----------------+---+---+---+---+---+---+---+---+\n",
            "|  0|  0|    0|   0|  0|         0|      0|          0|            0|     0|         0|           0|        0|        0|           0|          0|               0|  0|  0|  0|  0|  0|  0|  0|  0|\n",
            "+---+---+-----+----+---+----------+-------+-----------+-------------+------+----------+------------+---------+---------+------------+-----------+----------------+---+---+---+---+---+---+---+---+\n",
            "\n"
          ]
        }
      ]
    },
    {
      "cell_type": "code",
      "source": [
        "from pyspark.sql.functions import countDistinct\n",
        "\n",
        "unique_counts = click_df.agg(*(countDistinct(col).alias(col) for col in click_df.columns))\n",
        "unique_counts.show()"
      ],
      "metadata": {
        "colab": {
          "base_uri": "https://localhost:8080/"
        },
        "id": "p0ue8PMgvxWH",
        "outputId": "d615b9a0-a370-4abd-fa43-7d2606b8a937"
      },
      "execution_count": 11,
      "outputs": [
        {
          "output_type": "stream",
          "name": "stdout",
          "text": [
            "+------+------+-----+----+---+----------+-------+-----------+-------------+------+----------+------------+---------+---------+------------+-----------+----------------+----+---+---+---+---+---+---+---+\n",
            "|   _c0|    id|click|hour| C1|banner_pos|site_id|site_domain|site_category|app_id|app_domain|app_category|device_id|device_ip|device_model|device_type|device_conn_type| C14|C15|C16|C17|C18|C19|C20|C21|\n",
            "+------+------+-----+----+---+----------+-------+-----------+-------------+------+----------+------------+---------+---------+------------+-----------+----------------+----+---+---+---+---+---+---+---+\n",
            "|402586|402586|    2| 240|  7|         7|   2225|       2188|           22|  2241|       143|          27|    64742|   261706|        4380|          4|               4|2088|  8|  9|411|  4| 65|161| 60|\n",
            "+------+------+-----+----+---+----------+-------+-----------+-------------+------+----------+------------+---------+---------+------------+-----------+----------------+----+---+---+---+---+---+---+---+\n",
            "\n"
          ]
        }
      ]
    },
    {
      "cell_type": "code",
      "source": [
        "from sklearn.preprocessing import LabelEncoder, StandardScaler\n",
        "from pyspark.sql.functions import col\n",
        "click_df = click_df.withColumn(\"click\", col(\"click\").cast(\"integer\"))\n",
        "\n",
        "# Select Relevant Features\n",
        "categorical_cols = [\"site_id\", \"site_domain\", \"site_category\", \"app_id\", \"app_domain\", \"app_category\", \"device_model\"]\n",
        "numerical_cols = [\"hour\", \"C1\", \"banner_pos\", \"C15\", \"C16\", \"C18\", \"C19\", \"C20\", \"C21\"]\n",
        "\n",
        "# Convert Spark DataFrame to Pandas\n",
        "click_pd = click_df.select([\"click\"] + categorical_cols + numerical_cols).toPandas()\n",
        "\n",
        "# Label Encode Categorical Features\n",
        "label_encoders = {}\n",
        "for col in categorical_cols:\n",
        "    le = LabelEncoder()\n",
        "    click_pd[col] = le.fit_transform(click_pd[col])\n",
        "    label_encoders[col] = le\n",
        "\n",
        "# Standardize Numerical Features\n",
        "scaler = StandardScaler()\n",
        "click_pd[numerical_cols] = scaler.fit_transform(click_pd[numerical_cols])\n",
        "\n",
        "# Split into Features (X) and Target (y)\n",
        "X = click_pd.drop(columns=[\"click\"]).values\n",
        "y = click_pd[\"click\"].values"
      ],
      "metadata": {
        "id": "JzulAg924PBZ"
      },
      "execution_count": 18,
      "outputs": []
    },
    {
      "cell_type": "markdown",
      "source": [
        "## Train Model"
      ],
      "metadata": {
        "id": "z4sm6OSw4MJL"
      }
    },
    {
      "cell_type": "code",
      "source": [
        "import torch\n",
        "from torch.utils.data import Dataset, DataLoader\n",
        "import torch.nn as nn\n",
        "import torch.optim as optim\n",
        "import numpy as np\n"
      ],
      "metadata": {
        "id": "zbPMFCkT5M6B"
      },
      "execution_count": 13,
      "outputs": []
    },
    {
      "cell_type": "code",
      "source": [
        "class CTRDataset(Dataset):\n",
        "    def __init__(self, X, y):\n",
        "        self.X = torch.tensor(X, dtype=torch.float32)\n",
        "        self.y = torch.tensor(y, dtype=torch.float32).unsqueeze(1)\n",
        "\n",
        "    def __len__(self):\n",
        "        return len(self.y)\n",
        "\n",
        "    def __getitem__(self, idx):\n",
        "        return self.X[idx], self.y[idx]\n",
        "\n",
        "# Split Data into Train/Test\n",
        "train_size = int(0.8 * len(X))\n",
        "test_size = len(X) - train_size\n",
        "train_X, test_X = X[:train_size], X[train_size:]\n",
        "train_y, test_y = y[:train_size], y[train_size:]\n",
        "\n",
        "train_dataset = CTRDataset(train_X, train_y)\n",
        "test_dataset = CTRDataset(test_X, test_y)\n",
        "\n",
        "train_loader = DataLoader(train_dataset, batch_size=64, shuffle=True)\n",
        "test_loader = DataLoader(test_dataset, batch_size=64, shuffle=False)"
      ],
      "metadata": {
        "id": "aa_OVCD14Omg"
      },
      "execution_count": 19,
      "outputs": []
    },
    {
      "cell_type": "code",
      "source": [
        "class CTRModel(nn.Module):\n",
        "    def __init__(self, input_dim):\n",
        "        super(CTRModel, self).__init__()\n",
        "        self.fc1 = nn.Linear(input_dim, 64)\n",
        "        self.fc2 = nn.Linear(64, 32)\n",
        "        self.fc3 = nn.Linear(32, 1)\n",
        "        self.relu = nn.ReLU()\n",
        "        self.sigmoid = nn.Sigmoid()\n",
        "\n",
        "    def forward(self, x):\n",
        "        x = self.relu(self.fc1(x))\n",
        "        x = self.relu(self.fc2(x))\n",
        "        x = self.sigmoid(self.fc3(x))\n",
        "        return x\n",
        "\n",
        "# Initialize Model\n",
        "input_dim = X.shape[1]\n",
        "model = CTRModel(input_dim)\n",
        "\n",
        "# Define Loss Function & Optimizer\n",
        "criterion = nn.BCELoss()\n",
        "optimizer = optim.Adam(model.parameters(), lr=0.001)\n"
      ],
      "metadata": {
        "id": "Cj9cZOmn5XuO"
      },
      "execution_count": 20,
      "outputs": []
    },
    {
      "cell_type": "code",
      "source": [
        "num_epochs = 10\n",
        "\n",
        "for epoch in range(num_epochs):\n",
        "    model.train()\n",
        "    running_loss = 0.0\n",
        "\n",
        "    for inputs, labels in train_loader:\n",
        "        optimizer.zero_grad()\n",
        "        outputs = model(inputs)\n",
        "        loss = criterion(outputs, labels)\n",
        "        loss.backward()\n",
        "        optimizer.step()\n",
        "        running_loss += loss.item()\n",
        "\n",
        "    print(f\"Epoch {epoch+1}/{num_epochs}, Loss: {running_loss/len(train_loader)}\")"
      ],
      "metadata": {
        "colab": {
          "base_uri": "https://localhost:8080/"
        },
        "id": "AjkXGJaS45Un",
        "outputId": "0d9ef6ae-2515-4fae-dda0-400a6639cf87"
      },
      "execution_count": 21,
      "outputs": [
        {
          "output_type": "stream",
          "name": "stdout",
          "text": [
            "Epoch 1/10, Loss: 17.132359325531965\n",
            "Epoch 2/10, Loss: 17.14214170898993\n",
            "Epoch 3/10, Loss: 17.142512704243902\n",
            "Epoch 4/10, Loss: 17.142141710593854\n",
            "Epoch 5/10, Loss: 17.14251270509304\n",
            "Epoch 6/10, Loss: 17.14232720553191\n",
            "Epoch 7/10, Loss: 17.142512703866508\n",
            "Epoch 8/10, Loss: 17.14288369676177\n",
            "Epoch 9/10, Loss: 17.142512702168236\n",
            "Epoch 10/10, Loss: 17.142883695252195\n"
          ]
        }
      ]
    },
    {
      "cell_type": "code",
      "source": [
        "from sklearn.metrics import accuracy_score, roc_auc_score\n",
        "\n",
        "model.eval()\n",
        "y_pred = []\n",
        "y_true = []\n",
        "\n",
        "with torch.no_grad():\n",
        "    for inputs, labels in test_loader:\n",
        "        outputs = model(inputs)\n",
        "        preds = (outputs.numpy() > 0.5).astype(int)\n",
        "        y_pred.extend(preds)\n",
        "        y_true.extend(labels.numpy())\n",
        "\n",
        "# Calculate Metrics\n",
        "accuracy = accuracy_score(y_true, y_pred)\n",
        "auc = roc_auc_score(y_true, y_pred)\n",
        "\n",
        "print(f\"Test Accuracy: {accuracy:.4f}\")\n",
        "print(f\"AUC-ROC: {auc:.4f}\")\n"
      ],
      "metadata": {
        "id": "wOQwmOQz5dVE",
        "colab": {
          "base_uri": "https://localhost:8080/"
        },
        "outputId": "12a352c5-995c-4492-9359-c5269199701b"
      },
      "execution_count": 22,
      "outputs": [
        {
          "output_type": "stream",
          "name": "stdout",
          "text": [
            "Test Accuracy: 0.8389\n",
            "AUC-ROC: 0.5000\n"
          ]
        }
      ]
    }
  ]
}